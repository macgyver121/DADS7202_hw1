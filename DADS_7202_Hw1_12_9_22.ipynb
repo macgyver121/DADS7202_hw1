{
  "nbformat": 4,
  "nbformat_minor": 0,
  "metadata": {
    "colab": {
      "provenance": [],
      "collapsed_sections": [
        "_d95WDKAwjtP",
        "8LAEJx8LlODc",
        "RWf_F6dJlv_s",
        "MTiF6cUXmXnH",
        "LmhkgKIAnM1z"
      ],
      "authorship_tag": "ABX9TyPQmIxLXU1LwrW5nlttoprD",
      "include_colab_link": true
    },
    "kernelspec": {
      "name": "python3",
      "display_name": "Python 3"
    },
    "language_info": {
      "name": "python"
    },
    "accelerator": "GPU",
    "gpuClass": "standard"
  },
  "cells": [
    {
      "cell_type": "markdown",
      "metadata": {
        "id": "view-in-github",
        "colab_type": "text"
      },
      "source": [
        "<a href=\"https://colab.research.google.com/github/macgyver121/DADS7202_hw1/blob/main/DADS_7202_Hw1_12_9_22.ipynb\" target=\"_parent\"><img src=\"https://colab.research.google.com/assets/colab-badge.svg\" alt=\"Open In Colab\"/></a>"
      ]
    },
    {
      "cell_type": "markdown",
      "source": [
        "## Import Data"
      ],
      "metadata": {
        "id": "_d95WDKAwjtP"
      }
    },
    {
      "cell_type": "code",
      "execution_count": 3,
      "metadata": {
        "id": "tpROl7wgFuV6"
      },
      "outputs": [],
      "source": [
        "import pandas as pd\n",
        "import numpy as np\n",
        "import seaborn as sns\n",
        "import matplotlib.pyplot as plt\n",
        "from sklearn.model_selection import train_test_split\n",
        "from sklearn.linear_model import LinearRegression\n",
        "from sklearn.metrics import mean_squared_error\n",
        "from sklearn.metrics import mean_absolute_error\n",
        "from sklearn.preprocessing import PolynomialFeatures\n",
        "from sklearn.preprocessing import StandardScaler"
      ]
    },
    {
      "cell_type": "code",
      "source": [
        "df = pd.read_csv('SG_usedcar.csv')"
      ],
      "metadata": {
        "id": "64vSTFZFF0uA"
      },
      "execution_count": 4,
      "outputs": []
    },
    {
      "cell_type": "code",
      "source": [
        "df.head()"
      ],
      "metadata": {
        "colab": {
          "base_uri": "https://localhost:8080/",
          "height": 0
        },
        "id": "-LGJKHD-F8Av",
        "outputId": "d9bbfcdc-4148-4f63-e135-4dd9ac56c683"
      },
      "execution_count": 5,
      "outputs": [
        {
          "output_type": "execute_result",
          "data": {
            "text/plain": [
              "                                        Brand             Type   Reg_date  \\\n",
              "0                  BMW 5 Series 520i Highline     Luxury Sedan  28-May-13   \n",
              "1            Honda Vezel 1.5A X Honda Sensing              SUV  14-Oct-15   \n",
              "2               MINI One 1.6A (New 10-yr COE)        Hatchback   7-Oct-11   \n",
              "3      Hyundai Avante 1.6A (COE till 02/2029)  Mid-Sized Sedan  12-Feb-09   \n",
              "4  Suzuki Swift Sport 1.6M (COE till 12/2022)        Hatchback  28-Dec-07   \n",
              "\n",
              "                      Coe_left    Dep Mileage Road Tax Dereg Value    COE  \\\n",
              "0  1yr 11mths 21days COE left)  15920     N.A     1210       38133  67304   \n",
              "1   4yrs 4mths 7days COE left)  10310   50000      682       31237  56001   \n",
              "2             10yrs  COE left)   6280  110000      742         N.A    N.A   \n",
              "3   7yrs 8mths 5days COE left)    N.A     N.A      959         N.A  25727   \n",
              "4   1yr 6mths 21days COE left)   8210  203000     1030        6656  21349   \n",
              "\n",
              "  Engine Cap Curb Weight Manufactured Transmission    OMV    ARF Power  \\\n",
              "0       1997        1610         2013         Auto  41566  45193   135   \n",
              "1       1496        1190         2015         Auto  19775   9775    96   \n",
              "2       1598        1100         2011         Auto  18180  18180    72   \n",
              "3       1591        1264         2009         Auto  10763  10763    89   \n",
              "4       1586        1060         2007       Manual  12154  13370    92   \n",
              "\n",
              "  No. of Owners  Price  Unnamed: 18  \n",
              "0             1  54000          NaN  \n",
              "1             2  49800          NaN  \n",
              "2             3  62800          NaN  \n",
              "3             3    N.A          NaN  \n",
              "4             2  12800          NaN  "
            ],
            "text/html": [
              "\n",
              "  <div id=\"df-7fd1df5e-000a-4981-b4c0-fc6505365d83\">\n",
              "    <div class=\"colab-df-container\">\n",
              "      <div>\n",
              "<style scoped>\n",
              "    .dataframe tbody tr th:only-of-type {\n",
              "        vertical-align: middle;\n",
              "    }\n",
              "\n",
              "    .dataframe tbody tr th {\n",
              "        vertical-align: top;\n",
              "    }\n",
              "\n",
              "    .dataframe thead th {\n",
              "        text-align: right;\n",
              "    }\n",
              "</style>\n",
              "<table border=\"1\" class=\"dataframe\">\n",
              "  <thead>\n",
              "    <tr style=\"text-align: right;\">\n",
              "      <th></th>\n",
              "      <th>Brand</th>\n",
              "      <th>Type</th>\n",
              "      <th>Reg_date</th>\n",
              "      <th>Coe_left</th>\n",
              "      <th>Dep</th>\n",
              "      <th>Mileage</th>\n",
              "      <th>Road Tax</th>\n",
              "      <th>Dereg Value</th>\n",
              "      <th>COE</th>\n",
              "      <th>Engine Cap</th>\n",
              "      <th>Curb Weight</th>\n",
              "      <th>Manufactured</th>\n",
              "      <th>Transmission</th>\n",
              "      <th>OMV</th>\n",
              "      <th>ARF</th>\n",
              "      <th>Power</th>\n",
              "      <th>No. of Owners</th>\n",
              "      <th>Price</th>\n",
              "      <th>Unnamed: 18</th>\n",
              "    </tr>\n",
              "  </thead>\n",
              "  <tbody>\n",
              "    <tr>\n",
              "      <th>0</th>\n",
              "      <td>BMW 5 Series 520i Highline</td>\n",
              "      <td>Luxury Sedan</td>\n",
              "      <td>28-May-13</td>\n",
              "      <td>1yr 11mths 21days COE left)</td>\n",
              "      <td>15920</td>\n",
              "      <td>N.A</td>\n",
              "      <td>1210</td>\n",
              "      <td>38133</td>\n",
              "      <td>67304</td>\n",
              "      <td>1997</td>\n",
              "      <td>1610</td>\n",
              "      <td>2013</td>\n",
              "      <td>Auto</td>\n",
              "      <td>41566</td>\n",
              "      <td>45193</td>\n",
              "      <td>135</td>\n",
              "      <td>1</td>\n",
              "      <td>54000</td>\n",
              "      <td>NaN</td>\n",
              "    </tr>\n",
              "    <tr>\n",
              "      <th>1</th>\n",
              "      <td>Honda Vezel 1.5A X Honda Sensing</td>\n",
              "      <td>SUV</td>\n",
              "      <td>14-Oct-15</td>\n",
              "      <td>4yrs 4mths 7days COE left)</td>\n",
              "      <td>10310</td>\n",
              "      <td>50000</td>\n",
              "      <td>682</td>\n",
              "      <td>31237</td>\n",
              "      <td>56001</td>\n",
              "      <td>1496</td>\n",
              "      <td>1190</td>\n",
              "      <td>2015</td>\n",
              "      <td>Auto</td>\n",
              "      <td>19775</td>\n",
              "      <td>9775</td>\n",
              "      <td>96</td>\n",
              "      <td>2</td>\n",
              "      <td>49800</td>\n",
              "      <td>NaN</td>\n",
              "    </tr>\n",
              "    <tr>\n",
              "      <th>2</th>\n",
              "      <td>MINI One 1.6A (New 10-yr COE)</td>\n",
              "      <td>Hatchback</td>\n",
              "      <td>7-Oct-11</td>\n",
              "      <td>10yrs  COE left)</td>\n",
              "      <td>6280</td>\n",
              "      <td>110000</td>\n",
              "      <td>742</td>\n",
              "      <td>N.A</td>\n",
              "      <td>N.A</td>\n",
              "      <td>1598</td>\n",
              "      <td>1100</td>\n",
              "      <td>2011</td>\n",
              "      <td>Auto</td>\n",
              "      <td>18180</td>\n",
              "      <td>18180</td>\n",
              "      <td>72</td>\n",
              "      <td>3</td>\n",
              "      <td>62800</td>\n",
              "      <td>NaN</td>\n",
              "    </tr>\n",
              "    <tr>\n",
              "      <th>3</th>\n",
              "      <td>Hyundai Avante 1.6A (COE till 02/2029)</td>\n",
              "      <td>Mid-Sized Sedan</td>\n",
              "      <td>12-Feb-09</td>\n",
              "      <td>7yrs 8mths 5days COE left)</td>\n",
              "      <td>N.A</td>\n",
              "      <td>N.A</td>\n",
              "      <td>959</td>\n",
              "      <td>N.A</td>\n",
              "      <td>25727</td>\n",
              "      <td>1591</td>\n",
              "      <td>1264</td>\n",
              "      <td>2009</td>\n",
              "      <td>Auto</td>\n",
              "      <td>10763</td>\n",
              "      <td>10763</td>\n",
              "      <td>89</td>\n",
              "      <td>3</td>\n",
              "      <td>N.A</td>\n",
              "      <td>NaN</td>\n",
              "    </tr>\n",
              "    <tr>\n",
              "      <th>4</th>\n",
              "      <td>Suzuki Swift Sport 1.6M (COE till 12/2022)</td>\n",
              "      <td>Hatchback</td>\n",
              "      <td>28-Dec-07</td>\n",
              "      <td>1yr 6mths 21days COE left)</td>\n",
              "      <td>8210</td>\n",
              "      <td>203000</td>\n",
              "      <td>1030</td>\n",
              "      <td>6656</td>\n",
              "      <td>21349</td>\n",
              "      <td>1586</td>\n",
              "      <td>1060</td>\n",
              "      <td>2007</td>\n",
              "      <td>Manual</td>\n",
              "      <td>12154</td>\n",
              "      <td>13370</td>\n",
              "      <td>92</td>\n",
              "      <td>2</td>\n",
              "      <td>12800</td>\n",
              "      <td>NaN</td>\n",
              "    </tr>\n",
              "  </tbody>\n",
              "</table>\n",
              "</div>\n",
              "      <button class=\"colab-df-convert\" onclick=\"convertToInteractive('df-7fd1df5e-000a-4981-b4c0-fc6505365d83')\"\n",
              "              title=\"Convert this dataframe to an interactive table.\"\n",
              "              style=\"display:none;\">\n",
              "        \n",
              "  <svg xmlns=\"http://www.w3.org/2000/svg\" height=\"24px\"viewBox=\"0 0 24 24\"\n",
              "       width=\"24px\">\n",
              "    <path d=\"M0 0h24v24H0V0z\" fill=\"none\"/>\n",
              "    <path d=\"M18.56 5.44l.94 2.06.94-2.06 2.06-.94-2.06-.94-.94-2.06-.94 2.06-2.06.94zm-11 1L8.5 8.5l.94-2.06 2.06-.94-2.06-.94L8.5 2.5l-.94 2.06-2.06.94zm10 10l.94 2.06.94-2.06 2.06-.94-2.06-.94-.94-2.06-.94 2.06-2.06.94z\"/><path d=\"M17.41 7.96l-1.37-1.37c-.4-.4-.92-.59-1.43-.59-.52 0-1.04.2-1.43.59L10.3 9.45l-7.72 7.72c-.78.78-.78 2.05 0 2.83L4 21.41c.39.39.9.59 1.41.59.51 0 1.02-.2 1.41-.59l7.78-7.78 2.81-2.81c.8-.78.8-2.07 0-2.86zM5.41 20L4 18.59l7.72-7.72 1.47 1.35L5.41 20z\"/>\n",
              "  </svg>\n",
              "      </button>\n",
              "      \n",
              "  <style>\n",
              "    .colab-df-container {\n",
              "      display:flex;\n",
              "      flex-wrap:wrap;\n",
              "      gap: 12px;\n",
              "    }\n",
              "\n",
              "    .colab-df-convert {\n",
              "      background-color: #E8F0FE;\n",
              "      border: none;\n",
              "      border-radius: 50%;\n",
              "      cursor: pointer;\n",
              "      display: none;\n",
              "      fill: #1967D2;\n",
              "      height: 32px;\n",
              "      padding: 0 0 0 0;\n",
              "      width: 32px;\n",
              "    }\n",
              "\n",
              "    .colab-df-convert:hover {\n",
              "      background-color: #E2EBFA;\n",
              "      box-shadow: 0px 1px 2px rgba(60, 64, 67, 0.3), 0px 1px 3px 1px rgba(60, 64, 67, 0.15);\n",
              "      fill: #174EA6;\n",
              "    }\n",
              "\n",
              "    [theme=dark] .colab-df-convert {\n",
              "      background-color: #3B4455;\n",
              "      fill: #D2E3FC;\n",
              "    }\n",
              "\n",
              "    [theme=dark] .colab-df-convert:hover {\n",
              "      background-color: #434B5C;\n",
              "      box-shadow: 0px 1px 3px 1px rgba(0, 0, 0, 0.15);\n",
              "      filter: drop-shadow(0px 1px 2px rgba(0, 0, 0, 0.3));\n",
              "      fill: #FFFFFF;\n",
              "    }\n",
              "  </style>\n",
              "\n",
              "      <script>\n",
              "        const buttonEl =\n",
              "          document.querySelector('#df-7fd1df5e-000a-4981-b4c0-fc6505365d83 button.colab-df-convert');\n",
              "        buttonEl.style.display =\n",
              "          google.colab.kernel.accessAllowed ? 'block' : 'none';\n",
              "\n",
              "        async function convertToInteractive(key) {\n",
              "          const element = document.querySelector('#df-7fd1df5e-000a-4981-b4c0-fc6505365d83');\n",
              "          const dataTable =\n",
              "            await google.colab.kernel.invokeFunction('convertToInteractive',\n",
              "                                                     [key], {});\n",
              "          if (!dataTable) return;\n",
              "\n",
              "          const docLinkHtml = 'Like what you see? Visit the ' +\n",
              "            '<a target=\"_blank\" href=https://colab.research.google.com/notebooks/data_table.ipynb>data table notebook</a>'\n",
              "            + ' to learn more about interactive tables.';\n",
              "          element.innerHTML = '';\n",
              "          dataTable['output_type'] = 'display_data';\n",
              "          await google.colab.output.renderOutput(dataTable, element);\n",
              "          const docLink = document.createElement('div');\n",
              "          docLink.innerHTML = docLinkHtml;\n",
              "          element.appendChild(docLink);\n",
              "        }\n",
              "      </script>\n",
              "    </div>\n",
              "  </div>\n",
              "  "
            ]
          },
          "metadata": {},
          "execution_count": 5
        }
      ]
    },
    {
      "cell_type": "markdown",
      "source": [
        "## Cleansing Data"
      ],
      "metadata": {
        "id": "8LAEJx8LlODc"
      }
    },
    {
      "cell_type": "code",
      "source": [
        "df = df.replace('N.A', np.NaN)\n",
        "df = df.replace('N.A.', np.NaN)"
      ],
      "metadata": {
        "id": "pFEpcdm7HltL"
      },
      "execution_count": 6,
      "outputs": []
    },
    {
      "cell_type": "code",
      "source": [
        "df.isnull().sum()"
      ],
      "metadata": {
        "colab": {
          "base_uri": "https://localhost:8080/"
        },
        "id": "iN_3myFlIl4C",
        "outputId": "09b49a33-fb6f-4524-858c-92781a7fa9ce"
      },
      "execution_count": 7,
      "outputs": [
        {
          "output_type": "execute_result",
          "data": {
            "text/plain": [
              "Brand               0\n",
              "Type                0\n",
              "Reg_date           20\n",
              "Coe_left           22\n",
              "Dep               786\n",
              "Mileage          1560\n",
              "Road Tax          428\n",
              "Dereg Value       965\n",
              "COE               259\n",
              "Engine Cap          3\n",
              "Curb Weight        80\n",
              "Manufactured       20\n",
              "Transmission        0\n",
              "OMV               418\n",
              "ARF                13\n",
              "Power              23\n",
              "No. of Owners      72\n",
              "Price             735\n",
              "Unnamed: 18      4396\n",
              "dtype: int64"
            ]
          },
          "metadata": {},
          "execution_count": 7
        }
      ]
    },
    {
      "cell_type": "code",
      "source": [
        "del df['Unnamed: 18']"
      ],
      "metadata": {
        "id": "BjbrNeg_hv3O"
      },
      "execution_count": 8,
      "outputs": []
    },
    {
      "cell_type": "code",
      "source": [
        "df = df.dropna()"
      ],
      "metadata": {
        "id": "owDxWO59JYcb"
      },
      "execution_count": 9,
      "outputs": []
    },
    {
      "cell_type": "code",
      "source": [
        "df.isnull().sum()"
      ],
      "metadata": {
        "colab": {
          "base_uri": "https://localhost:8080/"
        },
        "id": "T8IQmgP7h4ME",
        "outputId": "5bef6712-834f-4eb9-cde6-71c6b55af9cb"
      },
      "execution_count": 10,
      "outputs": [
        {
          "output_type": "execute_result",
          "data": {
            "text/plain": [
              "Brand            0\n",
              "Type             0\n",
              "Reg_date         0\n",
              "Coe_left         0\n",
              "Dep              0\n",
              "Mileage          0\n",
              "Road Tax         0\n",
              "Dereg Value      0\n",
              "COE              0\n",
              "Engine Cap       0\n",
              "Curb Weight      0\n",
              "Manufactured     0\n",
              "Transmission     0\n",
              "OMV              0\n",
              "ARF              0\n",
              "Power            0\n",
              "No. of Owners    0\n",
              "Price            0\n",
              "dtype: int64"
            ]
          },
          "metadata": {},
          "execution_count": 10
        }
      ]
    },
    {
      "cell_type": "code",
      "source": [
        "df.info()"
      ],
      "metadata": {
        "colab": {
          "base_uri": "https://localhost:8080/"
        },
        "id": "QKLy6YXPsaUk",
        "outputId": "7117b8a8-b4ee-425c-8df8-b0b04fdaaac8"
      },
      "execution_count": 11,
      "outputs": [
        {
          "output_type": "stream",
          "name": "stdout",
          "text": [
            "<class 'pandas.core.frame.DataFrame'>\n",
            "Int64Index: 2494 entries, 1 to 4409\n",
            "Data columns (total 18 columns):\n",
            " #   Column         Non-Null Count  Dtype \n",
            "---  ------         --------------  ----- \n",
            " 0   Brand          2494 non-null   object\n",
            " 1   Type           2494 non-null   object\n",
            " 2   Reg_date       2494 non-null   object\n",
            " 3   Coe_left       2494 non-null   object\n",
            " 4   Dep            2494 non-null   object\n",
            " 5   Mileage        2494 non-null   object\n",
            " 6   Road Tax       2494 non-null   object\n",
            " 7   Dereg Value    2494 non-null   object\n",
            " 8   COE            2494 non-null   object\n",
            " 9   Engine Cap     2494 non-null   object\n",
            " 10  Curb Weight    2494 non-null   object\n",
            " 11  Manufactured   2494 non-null   object\n",
            " 12  Transmission   2494 non-null   object\n",
            " 13  OMV            2494 non-null   object\n",
            " 14  ARF            2494 non-null   object\n",
            " 15  Power          2494 non-null   object\n",
            " 16  No. of Owners  2494 non-null   object\n",
            " 17  Price          2494 non-null   object\n",
            "dtypes: object(18)\n",
            "memory usage: 370.2+ KB\n"
          ]
        }
      ]
    },
    {
      "cell_type": "markdown",
      "source": [
        "---------------------------"
      ],
      "metadata": {
        "id": "LoF-xRzKjPrk"
      }
    },
    {
      "cell_type": "markdown",
      "source": [
        "เอาเข้า openrefine \n",
        "- เปลี่ยน type\n",
        "- ปรับ brand ให้รวมเป็นยี่ห้อเดียวกัน"
      ],
      "metadata": {
        "id": "fILoH8wAiamo"
      }
    },
    {
      "cell_type": "markdown",
      "source": [
        "-----------------------------------"
      ],
      "metadata": {
        "id": "psTYs64_jNo8"
      }
    },
    {
      "cell_type": "code",
      "execution_count": 12,
      "metadata": {
        "id": "ICCyR2XjR_-m"
      },
      "outputs": [],
      "source": [
        "df = pd.read_csv('SG_usedcar_clean2.csv')"
      ]
    },
    {
      "cell_type": "code",
      "source": [
        "df.head()"
      ],
      "metadata": {
        "id": "LIoNeYalSXpw",
        "colab": {
          "base_uri": "https://localhost:8080/",
          "height": 0
        },
        "outputId": "0d795124-c50a-4100-b6a6-4051a3856dfd"
      },
      "execution_count": 13,
      "outputs": [
        {
          "output_type": "execute_result",
          "data": {
            "text/plain": [
              "   Unnamed: 0    Brand             Type  Coe_left(yrs)  Dep($)  Mileage(mile)  \\\n",
              "0           0    Honda              SUV              4   10310          50000   \n",
              "1           1   Suzuki        Hatchback              1    8210         203000   \n",
              "2           2  Porsche       Sports Car              6   34200          21000   \n",
              "3           3  Hyundai  Mid-Sized Sedan              3   11010          35000   \n",
              "4           4      Kia  Mid-Sized Sedan              8    9450          21200   \n",
              "\n",
              "   Road Tax($)  Dereg Value($)  COE($)  Engine Cap(cc)  Curb Weight(kg)  \\\n",
              "0          682           31237   56001            1496             1190   \n",
              "1         1030            6656   21349            1586             1060   \n",
              "2         1200          106829   50110            1988             1365   \n",
              "3          738           31339   64900            1591             1292   \n",
              "4          738           38416   30009            1591             1287   \n",
              "\n",
              "   Manufactured(yrs)  Transmission  OMV($)  ARF($)  Power  No. of Owners  \\\n",
              "0                  6             1   19775    9775     96              2   \n",
              "1                 14             0   12154   13370     92              2   \n",
              "2                  4             1   71979  101563    220              1   \n",
              "3                  7             1   13856   13856     97              1   \n",
              "4                  3             1   18894   18894     93              1   \n",
              "\n",
              "   Price($)  \n",
              "0     49800  \n",
              "1     12800  \n",
              "2    259988  \n",
              "3     44800  \n",
              "4     85800  "
            ],
            "text/html": [
              "\n",
              "  <div id=\"df-3178b32e-844c-49b6-9096-32712eb4e7bc\">\n",
              "    <div class=\"colab-df-container\">\n",
              "      <div>\n",
              "<style scoped>\n",
              "    .dataframe tbody tr th:only-of-type {\n",
              "        vertical-align: middle;\n",
              "    }\n",
              "\n",
              "    .dataframe tbody tr th {\n",
              "        vertical-align: top;\n",
              "    }\n",
              "\n",
              "    .dataframe thead th {\n",
              "        text-align: right;\n",
              "    }\n",
              "</style>\n",
              "<table border=\"1\" class=\"dataframe\">\n",
              "  <thead>\n",
              "    <tr style=\"text-align: right;\">\n",
              "      <th></th>\n",
              "      <th>Unnamed: 0</th>\n",
              "      <th>Brand</th>\n",
              "      <th>Type</th>\n",
              "      <th>Coe_left(yrs)</th>\n",
              "      <th>Dep($)</th>\n",
              "      <th>Mileage(mile)</th>\n",
              "      <th>Road Tax($)</th>\n",
              "      <th>Dereg Value($)</th>\n",
              "      <th>COE($)</th>\n",
              "      <th>Engine Cap(cc)</th>\n",
              "      <th>Curb Weight(kg)</th>\n",
              "      <th>Manufactured(yrs)</th>\n",
              "      <th>Transmission</th>\n",
              "      <th>OMV($)</th>\n",
              "      <th>ARF($)</th>\n",
              "      <th>Power</th>\n",
              "      <th>No. of Owners</th>\n",
              "      <th>Price($)</th>\n",
              "    </tr>\n",
              "  </thead>\n",
              "  <tbody>\n",
              "    <tr>\n",
              "      <th>0</th>\n",
              "      <td>0</td>\n",
              "      <td>Honda</td>\n",
              "      <td>SUV</td>\n",
              "      <td>4</td>\n",
              "      <td>10310</td>\n",
              "      <td>50000</td>\n",
              "      <td>682</td>\n",
              "      <td>31237</td>\n",
              "      <td>56001</td>\n",
              "      <td>1496</td>\n",
              "      <td>1190</td>\n",
              "      <td>6</td>\n",
              "      <td>1</td>\n",
              "      <td>19775</td>\n",
              "      <td>9775</td>\n",
              "      <td>96</td>\n",
              "      <td>2</td>\n",
              "      <td>49800</td>\n",
              "    </tr>\n",
              "    <tr>\n",
              "      <th>1</th>\n",
              "      <td>1</td>\n",
              "      <td>Suzuki</td>\n",
              "      <td>Hatchback</td>\n",
              "      <td>1</td>\n",
              "      <td>8210</td>\n",
              "      <td>203000</td>\n",
              "      <td>1030</td>\n",
              "      <td>6656</td>\n",
              "      <td>21349</td>\n",
              "      <td>1586</td>\n",
              "      <td>1060</td>\n",
              "      <td>14</td>\n",
              "      <td>0</td>\n",
              "      <td>12154</td>\n",
              "      <td>13370</td>\n",
              "      <td>92</td>\n",
              "      <td>2</td>\n",
              "      <td>12800</td>\n",
              "    </tr>\n",
              "    <tr>\n",
              "      <th>2</th>\n",
              "      <td>2</td>\n",
              "      <td>Porsche</td>\n",
              "      <td>Sports Car</td>\n",
              "      <td>6</td>\n",
              "      <td>34200</td>\n",
              "      <td>21000</td>\n",
              "      <td>1200</td>\n",
              "      <td>106829</td>\n",
              "      <td>50110</td>\n",
              "      <td>1988</td>\n",
              "      <td>1365</td>\n",
              "      <td>4</td>\n",
              "      <td>1</td>\n",
              "      <td>71979</td>\n",
              "      <td>101563</td>\n",
              "      <td>220</td>\n",
              "      <td>1</td>\n",
              "      <td>259988</td>\n",
              "    </tr>\n",
              "    <tr>\n",
              "      <th>3</th>\n",
              "      <td>3</td>\n",
              "      <td>Hyundai</td>\n",
              "      <td>Mid-Sized Sedan</td>\n",
              "      <td>3</td>\n",
              "      <td>11010</td>\n",
              "      <td>35000</td>\n",
              "      <td>738</td>\n",
              "      <td>31339</td>\n",
              "      <td>64900</td>\n",
              "      <td>1591</td>\n",
              "      <td>1292</td>\n",
              "      <td>7</td>\n",
              "      <td>1</td>\n",
              "      <td>13856</td>\n",
              "      <td>13856</td>\n",
              "      <td>97</td>\n",
              "      <td>1</td>\n",
              "      <td>44800</td>\n",
              "    </tr>\n",
              "    <tr>\n",
              "      <th>4</th>\n",
              "      <td>4</td>\n",
              "      <td>Kia</td>\n",
              "      <td>Mid-Sized Sedan</td>\n",
              "      <td>8</td>\n",
              "      <td>9450</td>\n",
              "      <td>21200</td>\n",
              "      <td>738</td>\n",
              "      <td>38416</td>\n",
              "      <td>30009</td>\n",
              "      <td>1591</td>\n",
              "      <td>1287</td>\n",
              "      <td>3</td>\n",
              "      <td>1</td>\n",
              "      <td>18894</td>\n",
              "      <td>18894</td>\n",
              "      <td>93</td>\n",
              "      <td>1</td>\n",
              "      <td>85800</td>\n",
              "    </tr>\n",
              "  </tbody>\n",
              "</table>\n",
              "</div>\n",
              "      <button class=\"colab-df-convert\" onclick=\"convertToInteractive('df-3178b32e-844c-49b6-9096-32712eb4e7bc')\"\n",
              "              title=\"Convert this dataframe to an interactive table.\"\n",
              "              style=\"display:none;\">\n",
              "        \n",
              "  <svg xmlns=\"http://www.w3.org/2000/svg\" height=\"24px\"viewBox=\"0 0 24 24\"\n",
              "       width=\"24px\">\n",
              "    <path d=\"M0 0h24v24H0V0z\" fill=\"none\"/>\n",
              "    <path d=\"M18.56 5.44l.94 2.06.94-2.06 2.06-.94-2.06-.94-.94-2.06-.94 2.06-2.06.94zm-11 1L8.5 8.5l.94-2.06 2.06-.94-2.06-.94L8.5 2.5l-.94 2.06-2.06.94zm10 10l.94 2.06.94-2.06 2.06-.94-2.06-.94-.94-2.06-.94 2.06-2.06.94z\"/><path d=\"M17.41 7.96l-1.37-1.37c-.4-.4-.92-.59-1.43-.59-.52 0-1.04.2-1.43.59L10.3 9.45l-7.72 7.72c-.78.78-.78 2.05 0 2.83L4 21.41c.39.39.9.59 1.41.59.51 0 1.02-.2 1.41-.59l7.78-7.78 2.81-2.81c.8-.78.8-2.07 0-2.86zM5.41 20L4 18.59l7.72-7.72 1.47 1.35L5.41 20z\"/>\n",
              "  </svg>\n",
              "      </button>\n",
              "      \n",
              "  <style>\n",
              "    .colab-df-container {\n",
              "      display:flex;\n",
              "      flex-wrap:wrap;\n",
              "      gap: 12px;\n",
              "    }\n",
              "\n",
              "    .colab-df-convert {\n",
              "      background-color: #E8F0FE;\n",
              "      border: none;\n",
              "      border-radius: 50%;\n",
              "      cursor: pointer;\n",
              "      display: none;\n",
              "      fill: #1967D2;\n",
              "      height: 32px;\n",
              "      padding: 0 0 0 0;\n",
              "      width: 32px;\n",
              "    }\n",
              "\n",
              "    .colab-df-convert:hover {\n",
              "      background-color: #E2EBFA;\n",
              "      box-shadow: 0px 1px 2px rgba(60, 64, 67, 0.3), 0px 1px 3px 1px rgba(60, 64, 67, 0.15);\n",
              "      fill: #174EA6;\n",
              "    }\n",
              "\n",
              "    [theme=dark] .colab-df-convert {\n",
              "      background-color: #3B4455;\n",
              "      fill: #D2E3FC;\n",
              "    }\n",
              "\n",
              "    [theme=dark] .colab-df-convert:hover {\n",
              "      background-color: #434B5C;\n",
              "      box-shadow: 0px 1px 3px 1px rgba(0, 0, 0, 0.15);\n",
              "      filter: drop-shadow(0px 1px 2px rgba(0, 0, 0, 0.3));\n",
              "      fill: #FFFFFF;\n",
              "    }\n",
              "  </style>\n",
              "\n",
              "      <script>\n",
              "        const buttonEl =\n",
              "          document.querySelector('#df-3178b32e-844c-49b6-9096-32712eb4e7bc button.colab-df-convert');\n",
              "        buttonEl.style.display =\n",
              "          google.colab.kernel.accessAllowed ? 'block' : 'none';\n",
              "\n",
              "        async function convertToInteractive(key) {\n",
              "          const element = document.querySelector('#df-3178b32e-844c-49b6-9096-32712eb4e7bc');\n",
              "          const dataTable =\n",
              "            await google.colab.kernel.invokeFunction('convertToInteractive',\n",
              "                                                     [key], {});\n",
              "          if (!dataTable) return;\n",
              "\n",
              "          const docLinkHtml = 'Like what you see? Visit the ' +\n",
              "            '<a target=\"_blank\" href=https://colab.research.google.com/notebooks/data_table.ipynb>data table notebook</a>'\n",
              "            + ' to learn more about interactive tables.';\n",
              "          element.innerHTML = '';\n",
              "          dataTable['output_type'] = 'display_data';\n",
              "          await google.colab.output.renderOutput(dataTable, element);\n",
              "          const docLink = document.createElement('div');\n",
              "          docLink.innerHTML = docLinkHtml;\n",
              "          element.appendChild(docLink);\n",
              "        }\n",
              "      </script>\n",
              "    </div>\n",
              "  </div>\n",
              "  "
            ]
          },
          "metadata": {},
          "execution_count": 13
        }
      ]
    },
    {
      "cell_type": "code",
      "source": [
        "df.info()"
      ],
      "metadata": {
        "id": "OuRu1jXeSYsZ",
        "colab": {
          "base_uri": "https://localhost:8080/"
        },
        "outputId": "02001b83-846b-4409-90b7-b7f36350ba5d"
      },
      "execution_count": 14,
      "outputs": [
        {
          "output_type": "stream",
          "name": "stdout",
          "text": [
            "<class 'pandas.core.frame.DataFrame'>\n",
            "RangeIndex: 2494 entries, 0 to 2493\n",
            "Data columns (total 18 columns):\n",
            " #   Column             Non-Null Count  Dtype \n",
            "---  ------             --------------  ----- \n",
            " 0   Unnamed: 0         2494 non-null   int64 \n",
            " 1   Brand              2494 non-null   object\n",
            " 2   Type               2494 non-null   object\n",
            " 3   Coe_left(yrs)      2494 non-null   int64 \n",
            " 4   Dep($)             2494 non-null   int64 \n",
            " 5   Mileage(mile)      2494 non-null   int64 \n",
            " 6   Road Tax($)        2494 non-null   int64 \n",
            " 7   Dereg Value($)     2494 non-null   int64 \n",
            " 8   COE($)             2494 non-null   int64 \n",
            " 9   Engine Cap(cc)     2494 non-null   int64 \n",
            " 10  Curb Weight(kg)    2494 non-null   int64 \n",
            " 11  Manufactured(yrs)  2494 non-null   int64 \n",
            " 12  Transmission       2494 non-null   int64 \n",
            " 13  OMV($)             2494 non-null   int64 \n",
            " 14  ARF($)             2494 non-null   int64 \n",
            " 15  Power              2494 non-null   int64 \n",
            " 16  No. of Owners      2494 non-null   int64 \n",
            " 17  Price($)           2494 non-null   int64 \n",
            "dtypes: int64(16), object(2)\n",
            "memory usage: 350.8+ KB\n"
          ]
        }
      ]
    },
    {
      "cell_type": "code",
      "source": [
        "df['Brand'] = df['Brand'].astype(str)\n",
        "df['Type'] = df['Type'].astype(str)\n",
        "df['Transmission'] = df['Transmission'].astype(str)"
      ],
      "metadata": {
        "id": "Afr1xjffSfp6"
      },
      "execution_count": 15,
      "outputs": []
    },
    {
      "cell_type": "code",
      "source": [
        "df = df.drop(columns = ['Unnamed: 0'])"
      ],
      "metadata": {
        "id": "6rvqs_f7Szb7"
      },
      "execution_count": 16,
      "outputs": []
    },
    {
      "cell_type": "code",
      "source": [
        "df.info()"
      ],
      "metadata": {
        "id": "Lg2D0poxTDmk",
        "colab": {
          "base_uri": "https://localhost:8080/"
        },
        "outputId": "959b60a4-9275-4c55-8e2f-d6f25212760f"
      },
      "execution_count": 17,
      "outputs": [
        {
          "output_type": "stream",
          "name": "stdout",
          "text": [
            "<class 'pandas.core.frame.DataFrame'>\n",
            "RangeIndex: 2494 entries, 0 to 2493\n",
            "Data columns (total 17 columns):\n",
            " #   Column             Non-Null Count  Dtype \n",
            "---  ------             --------------  ----- \n",
            " 0   Brand              2494 non-null   object\n",
            " 1   Type               2494 non-null   object\n",
            " 2   Coe_left(yrs)      2494 non-null   int64 \n",
            " 3   Dep($)             2494 non-null   int64 \n",
            " 4   Mileage(mile)      2494 non-null   int64 \n",
            " 5   Road Tax($)        2494 non-null   int64 \n",
            " 6   Dereg Value($)     2494 non-null   int64 \n",
            " 7   COE($)             2494 non-null   int64 \n",
            " 8   Engine Cap(cc)     2494 non-null   int64 \n",
            " 9   Curb Weight(kg)    2494 non-null   int64 \n",
            " 10  Manufactured(yrs)  2494 non-null   int64 \n",
            " 11  Transmission       2494 non-null   object\n",
            " 12  OMV($)             2494 non-null   int64 \n",
            " 13  ARF($)             2494 non-null   int64 \n",
            " 14  Power              2494 non-null   int64 \n",
            " 15  No. of Owners      2494 non-null   int64 \n",
            " 16  Price($)           2494 non-null   int64 \n",
            "dtypes: int64(14), object(3)\n",
            "memory usage: 331.4+ KB\n"
          ]
        }
      ]
    },
    {
      "cell_type": "markdown",
      "source": [
        "## EDA "
      ],
      "metadata": {
        "id": "RWf_F6dJlv_s"
      }
    },
    {
      "cell_type": "markdown",
      "source": [
        "### Distribution Graph"
      ],
      "metadata": {
        "id": "msPBaQg5l1SM"
      }
    },
    {
      "cell_type": "code",
      "source": [
        "def set_style(ax):\n",
        "    sns.despine(ax=ax, left=True)\n",
        "    ax.grid(axis='y', linewidth=0.3, color='black')"
      ],
      "metadata": {
        "id": "ai9PIaWHTX3C"
      },
      "execution_count": null,
      "outputs": []
    },
    {
      "cell_type": "code",
      "source": [
        "# Black - Aqua Blue - Pink\n",
        "colors = [\"#09101F\",\"#72DDF7\", '#F7AEF8']"
      ],
      "metadata": {
        "id": "T0uy_gWuUEvu"
      },
      "execution_count": null,
      "outputs": []
    },
    {
      "cell_type": "code",
      "source": [
        "def hist(df, x, ax, main_color=colors[1], second_color=colors[0], bins=30):\n",
        "    \n",
        "    sns.histplot(data=df, x=x, bins=bins, ax=ax,\n",
        "                 kde=True, color=main_color,\n",
        "                 edgecolor=second_color, line_kws={\"linestyle\":'--'}, linewidth=3\n",
        "                )\n",
        "    ax.lines[0].set_color(second_color)\n",
        "    set_style(ax)\n",
        "    \n",
        "    ax.set_xlabel(x.replace(\"_\", \" \").capitalize(), fontsize=\"x-large\")\n",
        "    ax.set_ylabel(\"\")"
      ],
      "metadata": {
        "id": "wM1om22_T445"
      },
      "execution_count": null,
      "outputs": []
    },
    {
      "cell_type": "code",
      "source": [
        "cols = ['Coe_left(yrs)', 'Dep($)', 'Mileage(mile)', 'Road Tax($)', 'Dereg Value($)', 'COE($)', 'Engine Cap(cc)',\n",
        "       'Curb Weight(kg)', 'Manufactured(yrs)', 'OMV($)', 'ARF($)', 'Power', 'No. of Owners', 'Price($)' ]\n",
        "\n",
        "fig, axs = plt.subplots(4, 4, figsize=(30, 25))\n",
        "\n",
        "for i, col in enumerate(cols):\n",
        "    \n",
        "    row_index = i // 4\n",
        "    col_index = i % 4\n",
        "    \n",
        "    hist(df, col, axs[row_index][col_index])\n",
        "\n",
        "fig.suptitle(\"Histograms of numeric columns of the Dataset\", fontsize=\"xx-large\", y=0.92)\n",
        "    \n",
        "plt.show()"
      ],
      "metadata": {
        "id": "kWWZZc59T7be"
      },
      "execution_count": null,
      "outputs": []
    },
    {
      "cell_type": "code",
      "source": [
        "def count(df, x, ax, main_color=colors[2], second_color=colors[0]):\n",
        "    \n",
        "    ax.bar(df[x].value_counts().index, df[x].value_counts().values,\n",
        "           color=main_color, edgecolor=second_color, linewidth=3)\n",
        "    \n",
        "    set_style(ax)\n",
        "    \n",
        "    ax.set_xlabel(x.replace(\"_\", \" \").capitalize(), fontsize=\"x-large\")\n",
        "    ax.set_ylabel(\"\")"
      ],
      "metadata": {
        "id": "KaX5o1TxU5-j"
      },
      "execution_count": null,
      "outputs": []
    },
    {
      "cell_type": "code",
      "source": [
        "cols = ['Brand', 'Type', 'Transmission']\n",
        "\n",
        "fig, ax = plt.subplots(1, 3, figsize=(30, 7))\n",
        "\n",
        "for i, col in enumerate(cols):\n",
        "    count(df, col, ax[i])\n",
        "    \n",
        "fig.suptitle(\"Count of values for categorical columns\", size=\"xx-large\")\n",
        "\n",
        "plt.show()"
      ],
      "metadata": {
        "id": "P1ltgndadKkv"
      },
      "execution_count": null,
      "outputs": []
    },
    {
      "cell_type": "code",
      "source": [
        "sns.boxplot(df['Price($)'])"
      ],
      "metadata": {
        "id": "_qyj3byIeo0r"
      },
      "execution_count": null,
      "outputs": []
    },
    {
      "cell_type": "code",
      "source": [
        "df['Brand'].value_counts().head()"
      ],
      "metadata": {
        "id": "4H7RyfXxi0bu"
      },
      "execution_count": null,
      "outputs": []
    },
    {
      "cell_type": "code",
      "source": [
        "df['Type'].value_counts().head()"
      ],
      "metadata": {
        "id": "e4PZqPjtkFpV"
      },
      "execution_count": null,
      "outputs": []
    },
    {
      "cell_type": "code",
      "source": [
        "df['Transmission'].value_counts().head()"
      ],
      "metadata": {
        "id": "sb_iPWdOkF4U"
      },
      "execution_count": null,
      "outputs": []
    },
    {
      "cell_type": "markdown",
      "source": [
        "### Correlation"
      ],
      "metadata": {
        "id": "O1SWDx9MeNsA"
      }
    },
    {
      "cell_type": "markdown",
      "source": [
        "#### Correlation Graph"
      ],
      "metadata": {
        "id": "xJ4To9fUmLDY"
      }
    },
    {
      "cell_type": "code",
      "source": [
        "def scatter(df, x, y, ax, main_color=colors[1], second_color=colors[0]):\n",
        "    \n",
        "    sns.regplot(data=df, x=x, y=y, ax=ax, \n",
        "                 color=main_color, ci=75,\n",
        "                scatter_kws={\n",
        "                    'edgecolor':second_color,\n",
        "                    'linewidth':1.5,\n",
        "                    's':50\n",
        "                },\n",
        "                line_kws={\n",
        "                    'color':colors[2],\n",
        "                    'linewidth':3,\n",
        "                }\n",
        "               )\n",
        "    ax.set_xlabel(x.replace(\"_\", \" \").capitalize())\n",
        "    ax.set_ylabel(y.replace(\"_\", \" \").capitalize())\n",
        "    \n",
        "    sns.despine(ax=ax)\n",
        "    ax.grid(axis='x')"
      ],
      "metadata": {
        "id": "6F1wW129e-m_"
      },
      "execution_count": null,
      "outputs": []
    },
    {
      "cell_type": "code",
      "source": [
        "cols = ['Coe_left(yrs)', 'Dep($)', 'Mileage(mile)', 'Road Tax($)', 'Dereg Value($)', 'COE($)', 'Engine Cap(cc)',\n",
        "       'Curb Weight(kg)', 'Manufactured(yrs)', 'OMV($)', 'ARF($)', 'Power', 'No. of Owners' ]\n",
        "\n",
        "fig, axs = plt.subplots(7, 2,figsize=(15, 40))\n",
        "\n",
        "for i, col in enumerate(cols):\n",
        "    \n",
        "    row_index = i // 2\n",
        "    col_index = i % 2\n",
        "    \n",
        "    ax = axs[row_index][col_index]\n",
        "    \n",
        "    scatter(df, col,'Price($)', ax)\n",
        "\n",
        "plt.show()"
      ],
      "metadata": {
        "id": "kzLmDo03fbAd"
      },
      "execution_count": null,
      "outputs": []
    },
    {
      "cell_type": "code",
      "source": [
        "def stripplot(df, x, y, ax, palette=[colors[1], colors[2]]):\n",
        "    \n",
        "    sns.stripplot(data=df, x=x, y=y, palette=palette, ax=ax,\n",
        "                 linewidth=2, size=8)\n",
        "    \n",
        "    set_style(ax)"
      ],
      "metadata": {
        "id": "jQy7I-YFgCbB"
      },
      "execution_count": null,
      "outputs": []
    },
    {
      "cell_type": "code",
      "source": [
        "fig, axs = plt.subplots(1, 3, figsize=(25, 6), sharey=True)\n",
        "\n",
        "for i, col in enumerate(['Brand', 'Type', 'Transmission']):\n",
        "    \n",
        "    stripplot(df, col, 'Price($)', axs[i])\n",
        "    \n",
        "    axs[i].set(\n",
        "        xlabel=col.replace(\"_\", \" \").capitalize(),\n",
        "        ylabel=\"Price($)\"\n",
        "    )\n",
        "\n",
        "plt.show()"
      ],
      "metadata": {
        "id": "eXLrbMpCiDc5"
      },
      "execution_count": null,
      "outputs": []
    },
    {
      "cell_type": "markdown",
      "source": [
        "#### Correlation Matrix"
      ],
      "metadata": {
        "id": "NTwgpj5RmQSk"
      }
    },
    {
      "cell_type": "code",
      "source": [
        "def corr_map(df, ax, palette, edgecolor=colors[0]):\n",
        "    \n",
        "    corr = df.corr()\n",
        "    \n",
        "    sns.heatmap(corr, annot=True, ax=ax,\n",
        "               cmap=palette, square=True, linewidth=.5, linecolor=edgecolor,\n",
        "               vmin=-1, vmax=1, fmt=\".2f\")"
      ],
      "metadata": {
        "id": "ZEDD5hmLiT-7"
      },
      "execution_count": null,
      "outputs": []
    },
    {
      "cell_type": "code",
      "source": [
        "fig, ax = plt.subplots(figsize=(12, 12))\n",
        "\n",
        "palette = sns.diverging_palette(299, 192, s=89, l=71, as_cmap=True, sep=20)\n",
        "\n",
        "corr_map(df, ax, palette)"
      ],
      "metadata": {
        "id": "fcbpfBX0iqIB"
      },
      "execution_count": null,
      "outputs": []
    },
    {
      "cell_type": "markdown",
      "source": [
        "## Data pre-processing"
      ],
      "metadata": {
        "id": "MTiF6cUXmXnH"
      }
    },
    {
      "cell_type": "markdown",
      "source": [
        "### Create Dummy Variable"
      ],
      "metadata": {
        "id": "aw1mN5zHk9wN"
      }
    },
    {
      "cell_type": "code",
      "source": [
        "df1 = pd.get_dummies(data=df, drop_first=True)"
      ],
      "metadata": {
        "id": "l8pzBLqhkQVt"
      },
      "execution_count": 18,
      "outputs": []
    },
    {
      "cell_type": "code",
      "source": [
        "df1.tail()"
      ],
      "metadata": {
        "id": "6yBR1qmvorZQ",
        "colab": {
          "base_uri": "https://localhost:8080/",
          "height": 334
        },
        "outputId": "c30fbe3a-cabb-44c2-fc01-b41960d0a1e8"
      },
      "execution_count": 19,
      "outputs": [
        {
          "output_type": "execute_result",
          "data": {
            "text/plain": [
              "      Coe_left(yrs)  Dep($)  Mileage(mile)  Road Tax($)  Dereg Value($)  \\\n",
              "2489              6   17990          55000         1210           68148   \n",
              "2490              3    7500         172892         1447           14045   \n",
              "2491              2   15240         127000          740           35772   \n",
              "2492              6    9340          40200          682           35419   \n",
              "2493              4   10590         120000         1208           39265   \n",
              "\n",
              "      COE($)  Engine Cap(cc)  Curb Weight(kg)  Manufactured(yrs)  OMV($)  ...  \\\n",
              "2489   39000            1998             1530                  4   45675  ...   \n",
              "2490   19657            1994             1485                 11   19090  ...   \n",
              "2491   73989            1595             1485                  8   29525  ...   \n",
              "2492   42801            1496             1310                  4   15108  ...   \n",
              "2493   74501            1995             1566                  6   13772  ...   \n",
              "\n",
              "      Brand_Toyota  Brand_Volkswagen  Brand_Volvo  Type_Luxury Sedan  \\\n",
              "2489             0                 0            0                  1   \n",
              "2490             0                 0            0                  0   \n",
              "2491             0                 0            0                  1   \n",
              "2492             0                 0            0                  0   \n",
              "2493             0                 0            0                  0   \n",
              "\n",
              "      Type_MPV  Type_Mid-Sized Sedan  Type_SUV  Type_Sports Car  \\\n",
              "2489         0                     0         0                0   \n",
              "2490         0                     0         1                0   \n",
              "2491         0                     0         0                0   \n",
              "2492         0                     1         0                0   \n",
              "2493         0                     0         1                0   \n",
              "\n",
              "      Type_Stationwagon  Transmission_1  \n",
              "2489                  0               1  \n",
              "2490                  0               1  \n",
              "2491                  0               1  \n",
              "2492                  0               1  \n",
              "2493                  0               1  \n",
              "\n",
              "[5 rows x 62 columns]"
            ],
            "text/html": [
              "\n",
              "  <div id=\"df-535a6530-f9d6-41fe-8108-0755390bedc8\">\n",
              "    <div class=\"colab-df-container\">\n",
              "      <div>\n",
              "<style scoped>\n",
              "    .dataframe tbody tr th:only-of-type {\n",
              "        vertical-align: middle;\n",
              "    }\n",
              "\n",
              "    .dataframe tbody tr th {\n",
              "        vertical-align: top;\n",
              "    }\n",
              "\n",
              "    .dataframe thead th {\n",
              "        text-align: right;\n",
              "    }\n",
              "</style>\n",
              "<table border=\"1\" class=\"dataframe\">\n",
              "  <thead>\n",
              "    <tr style=\"text-align: right;\">\n",
              "      <th></th>\n",
              "      <th>Coe_left(yrs)</th>\n",
              "      <th>Dep($)</th>\n",
              "      <th>Mileage(mile)</th>\n",
              "      <th>Road Tax($)</th>\n",
              "      <th>Dereg Value($)</th>\n",
              "      <th>COE($)</th>\n",
              "      <th>Engine Cap(cc)</th>\n",
              "      <th>Curb Weight(kg)</th>\n",
              "      <th>Manufactured(yrs)</th>\n",
              "      <th>OMV($)</th>\n",
              "      <th>...</th>\n",
              "      <th>Brand_Toyota</th>\n",
              "      <th>Brand_Volkswagen</th>\n",
              "      <th>Brand_Volvo</th>\n",
              "      <th>Type_Luxury Sedan</th>\n",
              "      <th>Type_MPV</th>\n",
              "      <th>Type_Mid-Sized Sedan</th>\n",
              "      <th>Type_SUV</th>\n",
              "      <th>Type_Sports Car</th>\n",
              "      <th>Type_Stationwagon</th>\n",
              "      <th>Transmission_1</th>\n",
              "    </tr>\n",
              "  </thead>\n",
              "  <tbody>\n",
              "    <tr>\n",
              "      <th>2489</th>\n",
              "      <td>6</td>\n",
              "      <td>17990</td>\n",
              "      <td>55000</td>\n",
              "      <td>1210</td>\n",
              "      <td>68148</td>\n",
              "      <td>39000</td>\n",
              "      <td>1998</td>\n",
              "      <td>1530</td>\n",
              "      <td>4</td>\n",
              "      <td>45675</td>\n",
              "      <td>...</td>\n",
              "      <td>0</td>\n",
              "      <td>0</td>\n",
              "      <td>0</td>\n",
              "      <td>1</td>\n",
              "      <td>0</td>\n",
              "      <td>0</td>\n",
              "      <td>0</td>\n",
              "      <td>0</td>\n",
              "      <td>0</td>\n",
              "      <td>1</td>\n",
              "    </tr>\n",
              "    <tr>\n",
              "      <th>2490</th>\n",
              "      <td>3</td>\n",
              "      <td>7500</td>\n",
              "      <td>172892</td>\n",
              "      <td>1447</td>\n",
              "      <td>14045</td>\n",
              "      <td>19657</td>\n",
              "      <td>1994</td>\n",
              "      <td>1485</td>\n",
              "      <td>11</td>\n",
              "      <td>19090</td>\n",
              "      <td>...</td>\n",
              "      <td>0</td>\n",
              "      <td>0</td>\n",
              "      <td>0</td>\n",
              "      <td>0</td>\n",
              "      <td>0</td>\n",
              "      <td>0</td>\n",
              "      <td>1</td>\n",
              "      <td>0</td>\n",
              "      <td>0</td>\n",
              "      <td>1</td>\n",
              "    </tr>\n",
              "    <tr>\n",
              "      <th>2491</th>\n",
              "      <td>2</td>\n",
              "      <td>15240</td>\n",
              "      <td>127000</td>\n",
              "      <td>740</td>\n",
              "      <td>35772</td>\n",
              "      <td>73989</td>\n",
              "      <td>1595</td>\n",
              "      <td>1485</td>\n",
              "      <td>8</td>\n",
              "      <td>29525</td>\n",
              "      <td>...</td>\n",
              "      <td>0</td>\n",
              "      <td>0</td>\n",
              "      <td>0</td>\n",
              "      <td>1</td>\n",
              "      <td>0</td>\n",
              "      <td>0</td>\n",
              "      <td>0</td>\n",
              "      <td>0</td>\n",
              "      <td>0</td>\n",
              "      <td>1</td>\n",
              "    </tr>\n",
              "    <tr>\n",
              "      <th>2492</th>\n",
              "      <td>6</td>\n",
              "      <td>9340</td>\n",
              "      <td>40200</td>\n",
              "      <td>682</td>\n",
              "      <td>35419</td>\n",
              "      <td>42801</td>\n",
              "      <td>1496</td>\n",
              "      <td>1310</td>\n",
              "      <td>4</td>\n",
              "      <td>15108</td>\n",
              "      <td>...</td>\n",
              "      <td>0</td>\n",
              "      <td>0</td>\n",
              "      <td>0</td>\n",
              "      <td>0</td>\n",
              "      <td>0</td>\n",
              "      <td>1</td>\n",
              "      <td>0</td>\n",
              "      <td>0</td>\n",
              "      <td>0</td>\n",
              "      <td>1</td>\n",
              "    </tr>\n",
              "    <tr>\n",
              "      <th>2493</th>\n",
              "      <td>4</td>\n",
              "      <td>10590</td>\n",
              "      <td>120000</td>\n",
              "      <td>1208</td>\n",
              "      <td>39265</td>\n",
              "      <td>74501</td>\n",
              "      <td>1995</td>\n",
              "      <td>1566</td>\n",
              "      <td>6</td>\n",
              "      <td>13772</td>\n",
              "      <td>...</td>\n",
              "      <td>0</td>\n",
              "      <td>0</td>\n",
              "      <td>0</td>\n",
              "      <td>0</td>\n",
              "      <td>0</td>\n",
              "      <td>0</td>\n",
              "      <td>1</td>\n",
              "      <td>0</td>\n",
              "      <td>0</td>\n",
              "      <td>1</td>\n",
              "    </tr>\n",
              "  </tbody>\n",
              "</table>\n",
              "<p>5 rows × 62 columns</p>\n",
              "</div>\n",
              "      <button class=\"colab-df-convert\" onclick=\"convertToInteractive('df-535a6530-f9d6-41fe-8108-0755390bedc8')\"\n",
              "              title=\"Convert this dataframe to an interactive table.\"\n",
              "              style=\"display:none;\">\n",
              "        \n",
              "  <svg xmlns=\"http://www.w3.org/2000/svg\" height=\"24px\"viewBox=\"0 0 24 24\"\n",
              "       width=\"24px\">\n",
              "    <path d=\"M0 0h24v24H0V0z\" fill=\"none\"/>\n",
              "    <path d=\"M18.56 5.44l.94 2.06.94-2.06 2.06-.94-2.06-.94-.94-2.06-.94 2.06-2.06.94zm-11 1L8.5 8.5l.94-2.06 2.06-.94-2.06-.94L8.5 2.5l-.94 2.06-2.06.94zm10 10l.94 2.06.94-2.06 2.06-.94-2.06-.94-.94-2.06-.94 2.06-2.06.94z\"/><path d=\"M17.41 7.96l-1.37-1.37c-.4-.4-.92-.59-1.43-.59-.52 0-1.04.2-1.43.59L10.3 9.45l-7.72 7.72c-.78.78-.78 2.05 0 2.83L4 21.41c.39.39.9.59 1.41.59.51 0 1.02-.2 1.41-.59l7.78-7.78 2.81-2.81c.8-.78.8-2.07 0-2.86zM5.41 20L4 18.59l7.72-7.72 1.47 1.35L5.41 20z\"/>\n",
              "  </svg>\n",
              "      </button>\n",
              "      \n",
              "  <style>\n",
              "    .colab-df-container {\n",
              "      display:flex;\n",
              "      flex-wrap:wrap;\n",
              "      gap: 12px;\n",
              "    }\n",
              "\n",
              "    .colab-df-convert {\n",
              "      background-color: #E8F0FE;\n",
              "      border: none;\n",
              "      border-radius: 50%;\n",
              "      cursor: pointer;\n",
              "      display: none;\n",
              "      fill: #1967D2;\n",
              "      height: 32px;\n",
              "      padding: 0 0 0 0;\n",
              "      width: 32px;\n",
              "    }\n",
              "\n",
              "    .colab-df-convert:hover {\n",
              "      background-color: #E2EBFA;\n",
              "      box-shadow: 0px 1px 2px rgba(60, 64, 67, 0.3), 0px 1px 3px 1px rgba(60, 64, 67, 0.15);\n",
              "      fill: #174EA6;\n",
              "    }\n",
              "\n",
              "    [theme=dark] .colab-df-convert {\n",
              "      background-color: #3B4455;\n",
              "      fill: #D2E3FC;\n",
              "    }\n",
              "\n",
              "    [theme=dark] .colab-df-convert:hover {\n",
              "      background-color: #434B5C;\n",
              "      box-shadow: 0px 1px 3px 1px rgba(0, 0, 0, 0.15);\n",
              "      filter: drop-shadow(0px 1px 2px rgba(0, 0, 0, 0.3));\n",
              "      fill: #FFFFFF;\n",
              "    }\n",
              "  </style>\n",
              "\n",
              "      <script>\n",
              "        const buttonEl =\n",
              "          document.querySelector('#df-535a6530-f9d6-41fe-8108-0755390bedc8 button.colab-df-convert');\n",
              "        buttonEl.style.display =\n",
              "          google.colab.kernel.accessAllowed ? 'block' : 'none';\n",
              "\n",
              "        async function convertToInteractive(key) {\n",
              "          const element = document.querySelector('#df-535a6530-f9d6-41fe-8108-0755390bedc8');\n",
              "          const dataTable =\n",
              "            await google.colab.kernel.invokeFunction('convertToInteractive',\n",
              "                                                     [key], {});\n",
              "          if (!dataTable) return;\n",
              "\n",
              "          const docLinkHtml = 'Like what you see? Visit the ' +\n",
              "            '<a target=\"_blank\" href=https://colab.research.google.com/notebooks/data_table.ipynb>data table notebook</a>'\n",
              "            + ' to learn more about interactive tables.';\n",
              "          element.innerHTML = '';\n",
              "          dataTable['output_type'] = 'display_data';\n",
              "          await google.colab.output.renderOutput(dataTable, element);\n",
              "          const docLink = document.createElement('div');\n",
              "          docLink.innerHTML = docLinkHtml;\n",
              "          element.appendChild(docLink);\n",
              "        }\n",
              "      </script>\n",
              "    </div>\n",
              "  </div>\n",
              "  "
            ]
          },
          "metadata": {},
          "execution_count": 19
        }
      ]
    },
    {
      "cell_type": "markdown",
      "source": [
        "### Data splitting"
      ],
      "metadata": {
        "id": "Dy1a2eNhmlAd"
      }
    },
    {
      "cell_type": "code",
      "source": [
        "X = df1.drop(['Price($)'], axis=1).values\n",
        "y = df1['Price($)'].values"
      ],
      "metadata": {
        "id": "7ud8jOhBo-WS"
      },
      "execution_count": 20,
      "outputs": []
    },
    {
      "cell_type": "code",
      "source": [
        "X_train, X_test, y_train, y_test = train_test_split(X, y, random_state=15, test_size=0.30)"
      ],
      "metadata": {
        "id": "Ieqa8zKBpdh8"
      },
      "execution_count": 21,
      "outputs": []
    },
    {
      "cell_type": "markdown",
      "source": [
        "### Data scaling"
      ],
      "metadata": {
        "id": "TEjJn4jImxju"
      }
    },
    {
      "cell_type": "code",
      "source": [
        "from sklearn.preprocessing import StandardScaler\n",
        "from sklearn.metrics import mean_squared_error as MSE\n",
        "\n",
        "ss = StandardScaler()\n",
        "\n",
        "ss.fit(X)\n",
        "\n",
        "X_train_scaled = ss.transform(X_train)\n",
        "X_test_scaled = ss.transform(X_test)"
      ],
      "metadata": {
        "id": "iLp7trDGq2Ji"
      },
      "execution_count": 22,
      "outputs": []
    },
    {
      "cell_type": "markdown",
      "source": [
        "### Recheck shape and reshape"
      ],
      "metadata": {
        "id": "doJSI_N6lFFZ"
      }
    },
    {
      "cell_type": "code",
      "source": [
        "y_train = y_train.reshape(1745,1)"
      ],
      "metadata": {
        "id": "jOsUlYCJf3qg"
      },
      "execution_count": 23,
      "outputs": []
    },
    {
      "cell_type": "code",
      "source": [
        "y_train.shape"
      ],
      "metadata": {
        "id": "CIzGrznexs59",
        "colab": {
          "base_uri": "https://localhost:8080/"
        },
        "outputId": "11e06833-b8c8-4871-c8e0-53da2b0bc515"
      },
      "execution_count": 24,
      "outputs": [
        {
          "output_type": "execute_result",
          "data": {
            "text/plain": [
              "(1745, 1)"
            ]
          },
          "metadata": {},
          "execution_count": 24
        }
      ]
    },
    {
      "cell_type": "markdown",
      "source": [
        "## Polynomial regression + Ridge Model "
      ],
      "metadata": {
        "id": "LmhkgKIAnM1z"
      }
    },
    {
      "cell_type": "code",
      "source": [
        "from datetime import datetime\n",
        "start_time = datetime.now()\n",
        "\n",
        "from sklearn.linear_model import Ridge\n",
        "\n",
        "poly_reg=PolynomialFeatures(degree=3)\n",
        "\n",
        "X_poly = poly_reg.fit_transform(X_train_scaled)\n",
        "\n",
        "X_poly_test = poly_reg.fit_transform(X_test_scaled)\n",
        "\n",
        "train_mae = list()\n",
        "test_mae = list()\n",
        "\n",
        "alpha = [i for i in range(780, 820, 10)]\n",
        "for i in alpha :\n",
        "    clf = Ridge(alpha=i)\n",
        "    clf.fit(X_poly, y_train)\n",
        "    \n",
        "    y_pred = clf.predict(X_poly)\n",
        "    y_pred_test = clf.predict(X_poly_test)\n",
        "        \n",
        "    train_mae.append(mean_absolute_error(y_train, y_pred))\n",
        "    test_mae.append(mean_absolute_error(y_test, y_pred_test))\n",
        "    \n",
        "for i, alpha in enumerate(alpha):\n",
        "    print(\"--\"*10, f\" alpha={alpha} \", \"--\"*10)\n",
        "    print(f\"TRAIN MAE -> {train_mae[i]}\")\n",
        "    print(f\"TEST MAE -> {test_mae[i]}\")\n",
        "\n",
        "end_time = datetime.now()\n",
        "print('Duration: {}'.format(end_time - start_time))"
      ],
      "metadata": {
        "id": "yLxt_yn6m7-w"
      },
      "execution_count": null,
      "outputs": []
    },
    {
      "cell_type": "code",
      "source": [
        "from datetime import datetime\n",
        "start_time = datetime.now()\n",
        "\n",
        "from sklearn.linear_model import Ridge\n",
        "\n",
        "poly_reg=PolynomialFeatures(degree=3)\n",
        "\n",
        "X_poly = poly_reg.fit_transform(X_train_scaled)\n",
        "\n",
        "X_poly_test = poly_reg.fit_transform(X_test_scaled)\n",
        "\n",
        "train_mae = list()\n",
        "test_mae = list()\n",
        "\n",
        "alphas = [i for i in range(0, 2000, 100)]\n",
        "for i in alphas :\n",
        "    clf = Ridge(alpha=i)\n",
        "    clf.fit(X_poly, y_train)\n",
        "    \n",
        "    y_pred = clf.predict(X_poly)\n",
        "    y_pred_test = clf.predict(X_poly_test)\n",
        "        \n",
        "    train_mae.append(mean_absolute_error(y_train, y_pred))\n",
        "    test_mae.append(mean_absolute_error(y_test, y_pred_test))\n",
        "    \n",
        "for i, alpha in enumerate(alphas):\n",
        "    print(\"--\"*10, f\" alpha={alpha} \", \"--\"*10)\n",
        "    print(f\"TRAIN MAE -> {train_mae[i]}\")\n",
        "    print(f\"TEST MAE -> {test_mae[i]}\")\n",
        "\n",
        "end_time = datetime.now()\n",
        "print('Duration: {}'.format(end_time - start_time))"
      ],
      "metadata": {
        "id": "Zshp8feone79"
      },
      "execution_count": null,
      "outputs": []
    },
    {
      "cell_type": "code",
      "source": [
        "i_alpha_optim = np.argmin(test_mae)\n",
        "alpha_optim = alphas[i_alpha_optim]\n",
        "print(\"Optimal regularization parameter : %s\" % alpha_optim)"
      ],
      "metadata": {
        "id": "MFdlH-9_oykz"
      },
      "execution_count": null,
      "outputs": []
    },
    {
      "cell_type": "code",
      "source": [
        "plt.subplot(2, 1, 1)\n",
        "plt.semilogx(alphas, train_mae, label=\"Train\")\n",
        "plt.semilogx(alphas, test_mae, label=\"Test\")\n",
        "plt.xlim([0, 2000])\n",
        "plt.ylim([0, 10000])\n",
        "plt.xlabel('alpha')\n",
        "plt.ylabel('MAE')\n",
        "plt.legend()\n",
        "plt.show()"
      ],
      "metadata": {
        "id": "fSp7tJk_nr4P"
      },
      "execution_count": null,
      "outputs": []
    },
    {
      "cell_type": "markdown",
      "source": [
        "## MLP model"
      ],
      "metadata": {
        "id": "rwgDA5q4xpkr"
      }
    },
    {
      "cell_type": "markdown",
      "source": [
        "### data formating"
      ],
      "metadata": {
        "id": "4Ayi4iQ8x3Hw"
      }
    },
    {
      "cell_type": "code",
      "source": [
        "y_test = y_test.reshape(-1,1)\n",
        "X_train = X_train.astype(np.float32)\n",
        "X_test = X_test.astype(np.float32)\n",
        "y_train = y_train.astype(np.float32)\n",
        "y_test = y_test.astype(np.float32)"
      ],
      "metadata": {
        "id": "9gD4My6zzSXL"
      },
      "execution_count": 25,
      "outputs": []
    },
    {
      "cell_type": "code",
      "source": [
        "print('X_train shape :',X_train.shape, 'X_train type :',X_train.dtype)\n",
        "print('y_train shape :',y_train.shape, 'X_test type :',X_test.dtype)\n",
        "print('X_test shape :',X_test.shape, 'y_train type :',y_train.dtype)\n",
        "print('y_test shape :',y_test.shape, 'y_test type :',y_test.dtype)"
      ],
      "metadata": {
        "colab": {
          "base_uri": "https://localhost:8080/"
        },
        "id": "HuJ9CoC6xm9V",
        "outputId": "9f17cd5c-dcd7-4fb9-c1e0-a9b3aa685e90"
      },
      "execution_count": 26,
      "outputs": [
        {
          "output_type": "stream",
          "name": "stdout",
          "text": [
            "X_train shape : (1745, 61) X_train type : float32\n",
            "y_train shape : (1745, 1) X_test type : float32\n",
            "X_test shape : (749, 61) y_train type : float32\n",
            "y_test shape : (749, 1) y_test type : float32\n"
          ]
        }
      ]
    },
    {
      "cell_type": "markdown",
      "source": [
        "### Create the network architecture"
      ],
      "metadata": {
        "id": "9_NC67dKz5YT"
      }
    },
    {
      "cell_type": "code",
      "source": [
        "# List all NVIDIA GPUs as avaialble in this computer (or Colab's session)\n",
        "!nvidia-smi -L"
      ],
      "metadata": {
        "id": "Obe8HUwiE9LE",
        "colab": {
          "base_uri": "https://localhost:8080/"
        },
        "outputId": "f444bc1f-8870-4473-877c-245762a8a400"
      },
      "execution_count": 27,
      "outputs": [
        {
          "output_type": "stream",
          "name": "stdout",
          "text": [
            "GPU 0: Tesla T4 (UUID: GPU-15f15d9c-615f-6452-b4f6-3adaeb07c37b)\n"
          ]
        }
      ]
    },
    {
      "cell_type": "code",
      "source": [
        "import sys\n",
        "print( f\"Python {sys.version}\\n\" )\n",
        "\n",
        "import numpy as np\n",
        "print( f\"NumPy {np.__version__}\\n\" )\n",
        "\n",
        "import matplotlib.pyplot as plt\n",
        "%matplotlib inline\n",
        "\n",
        "import tensorflow as tf\n",
        "print( f\"TensorFlow {tf.__version__}\" )\n",
        "print( f\"tf.keras.backend.image_data_format() = {tf.keras.backend.image_data_format()}\" )\n",
        "\n",
        "# Count the number of GPUs as detected by tensorflow\n",
        "gpus = tf.config.list_physical_devices('GPU')\n",
        "print( f\"TensorFlow detected { len(gpus) } GPU(s):\" )\n",
        "for i, gpu in enumerate(gpus):\n",
        "  print( f\".... GPU No. {i}: Name = {gpu.name} , Type = {gpu.device_type}\" )"
      ],
      "metadata": {
        "id": "-dCWFlpNKjPg",
        "colab": {
          "base_uri": "https://localhost:8080/"
        },
        "outputId": "b6d490fd-31ec-4193-a4c4-6f4367b1d512"
      },
      "execution_count": 28,
      "outputs": [
        {
          "output_type": "stream",
          "name": "stdout",
          "text": [
            "Python 3.7.13 (default, Apr 24 2022, 01:04:09) \n",
            "[GCC 7.5.0]\n",
            "\n",
            "NumPy 1.21.6\n",
            "\n",
            "TensorFlow 2.8.2\n",
            "tf.keras.backend.image_data_format() = channels_last\n",
            "TensorFlow detected 1 GPU(s):\n",
            ".... GPU No. 0: Name = /physical_device:GPU:0 , Type = GPU\n"
          ]
        }
      ]
    },
    {
      "cell_type": "code",
      "source": [
        "from keras import callbacks\n",
        "earlystopping = callbacks.EarlyStopping(monitor =\"val_loss\", \n",
        "                                        mode =\"min\", patience = 20, \n",
        "                                        restore_best_weights = True)"
      ],
      "metadata": {
        "id": "kvp2aa9dFwBg"
      },
      "execution_count": 29,
      "outputs": []
    },
    {
      "cell_type": "code",
      "source": [
        "from datetime import datetime\n",
        "start_time = datetime.now()\n",
        "\n",
        "np.random.seed(1234)\n",
        "tf.random.set_seed(5678)\n",
        "\n",
        "model = tf.keras.models.Sequential()\n",
        "\n",
        "# Input layer\n",
        "model.add( tf.keras.Input(shape=(61, ) ))\n",
        "# Dense\n",
        "model.add(tf.keras.layers.Dense(64, activation='relu', name = 'dense1'))\n",
        "model.add(tf.keras.layers.Dense(32, activation='relu', name = 'dense2'))\n",
        "model.add(tf.keras.layers.Dense(16, activation='relu', name = 'dense3'))\n",
        "model.add(tf.keras.layers.Dense(8, activation='relu', name = 'dense4'))\n",
        "# Output layer\n",
        "model.add(tf.keras.layers.Dense(1, activation='linear', name = 'output') )\n",
        "\n",
        "# Configure the model and start training\n",
        "model.compile(loss='mean_absolute_error', optimizer='adam', metrics=['mean_absolute_error'])\n",
        "history = model.fit(X_train_scaled, y_train, epochs=200, batch_size=2, verbose=1, validation_split=0.3, callbacks=[earlystopping])\n",
        "\n",
        "end_time = datetime.now()\n",
        "print('Duration: {}'.format(end_time - start_time))"
      ],
      "metadata": {
        "colab": {
          "base_uri": "https://localhost:8080/"
        },
        "id": "6RZ8khQsFysK",
        "outputId": "b5849d50-3a80-4707-aa4e-43563727a649"
      },
      "execution_count": 31,
      "outputs": [
        {
          "output_type": "stream",
          "name": "stdout",
          "text": [
            "Epoch 1/200\n",
            "611/611 [==============================] - 6s 4ms/step - loss: 77805.7812 - mean_absolute_error: 77805.7812 - val_loss: 33735.2773 - val_mean_absolute_error: 33735.2773\n",
            "Epoch 2/200\n",
            "611/611 [==============================] - 2s 3ms/step - loss: 26226.6387 - mean_absolute_error: 26226.6387 - val_loss: 20668.1758 - val_mean_absolute_error: 20668.1758\n",
            "Epoch 3/200\n",
            "611/611 [==============================] - 2s 4ms/step - loss: 20221.6250 - mean_absolute_error: 20221.6250 - val_loss: 18193.0664 - val_mean_absolute_error: 18193.0664\n",
            "Epoch 4/200\n",
            "611/611 [==============================] - 2s 3ms/step - loss: 17813.1484 - mean_absolute_error: 17813.1484 - val_loss: 16608.3223 - val_mean_absolute_error: 16608.3223\n",
            "Epoch 5/200\n",
            "611/611 [==============================] - 2s 4ms/step - loss: 16087.0957 - mean_absolute_error: 16087.0957 - val_loss: 15927.7256 - val_mean_absolute_error: 15927.7256\n",
            "Epoch 6/200\n",
            "611/611 [==============================] - 2s 4ms/step - loss: 14786.7910 - mean_absolute_error: 14786.7910 - val_loss: 15415.3418 - val_mean_absolute_error: 15415.3418\n",
            "Epoch 7/200\n",
            "611/611 [==============================] - 3s 5ms/step - loss: 13947.9443 - mean_absolute_error: 13947.9443 - val_loss: 14452.0967 - val_mean_absolute_error: 14452.0967\n",
            "Epoch 8/200\n",
            "611/611 [==============================] - 4s 7ms/step - loss: 13198.8545 - mean_absolute_error: 13198.8545 - val_loss: 13896.3584 - val_mean_absolute_error: 13896.3584\n",
            "Epoch 9/200\n",
            "611/611 [==============================] - 4s 6ms/step - loss: 12542.9150 - mean_absolute_error: 12542.9150 - val_loss: 13564.0596 - val_mean_absolute_error: 13564.0596\n",
            "Epoch 10/200\n",
            "611/611 [==============================] - 2s 4ms/step - loss: 11981.6572 - mean_absolute_error: 11981.6572 - val_loss: 13324.5195 - val_mean_absolute_error: 13324.5195\n",
            "Epoch 11/200\n",
            "611/611 [==============================] - 2s 4ms/step - loss: 11563.5859 - mean_absolute_error: 11563.5859 - val_loss: 13030.7705 - val_mean_absolute_error: 13030.7705\n",
            "Epoch 12/200\n",
            "611/611 [==============================] - 2s 3ms/step - loss: 11046.3242 - mean_absolute_error: 11046.3242 - val_loss: 12569.3252 - val_mean_absolute_error: 12569.3252\n",
            "Epoch 13/200\n",
            "611/611 [==============================] - 2s 4ms/step - loss: 10655.4170 - mean_absolute_error: 10655.4170 - val_loss: 12235.1152 - val_mean_absolute_error: 12235.1152\n",
            "Epoch 14/200\n",
            "611/611 [==============================] - 2s 3ms/step - loss: 10482.5303 - mean_absolute_error: 10482.5303 - val_loss: 12248.9619 - val_mean_absolute_error: 12248.9619\n",
            "Epoch 15/200\n",
            "611/611 [==============================] - 2s 3ms/step - loss: 10132.5098 - mean_absolute_error: 10132.5098 - val_loss: 11907.6543 - val_mean_absolute_error: 11907.6543\n",
            "Epoch 16/200\n",
            "611/611 [==============================] - 3s 5ms/step - loss: 9876.5352 - mean_absolute_error: 9876.5352 - val_loss: 11718.0352 - val_mean_absolute_error: 11718.0352\n",
            "Epoch 17/200\n",
            "611/611 [==============================] - 3s 4ms/step - loss: 9630.6533 - mean_absolute_error: 9630.6533 - val_loss: 11504.9678 - val_mean_absolute_error: 11504.9678\n",
            "Epoch 18/200\n",
            "611/611 [==============================] - 2s 4ms/step - loss: 9410.7607 - mean_absolute_error: 9410.7607 - val_loss: 11303.9502 - val_mean_absolute_error: 11303.9502\n",
            "Epoch 19/200\n",
            "611/611 [==============================] - 2s 4ms/step - loss: 9145.7725 - mean_absolute_error: 9145.7725 - val_loss: 11210.2607 - val_mean_absolute_error: 11210.2607\n",
            "Epoch 20/200\n",
            "611/611 [==============================] - 3s 5ms/step - loss: 8928.6016 - mean_absolute_error: 8928.6016 - val_loss: 11006.0117 - val_mean_absolute_error: 11006.0117\n",
            "Epoch 21/200\n",
            "611/611 [==============================] - 2s 4ms/step - loss: 8847.0967 - mean_absolute_error: 8847.0967 - val_loss: 10576.3779 - val_mean_absolute_error: 10576.3779\n",
            "Epoch 22/200\n",
            "611/611 [==============================] - 3s 5ms/step - loss: 8614.4336 - mean_absolute_error: 8614.4336 - val_loss: 10405.5537 - val_mean_absolute_error: 10405.5537\n",
            "Epoch 23/200\n",
            "611/611 [==============================] - 2s 3ms/step - loss: 8462.0957 - mean_absolute_error: 8462.0957 - val_loss: 10256.7197 - val_mean_absolute_error: 10256.7197\n",
            "Epoch 24/200\n",
            "611/611 [==============================] - 2s 4ms/step - loss: 8235.9561 - mean_absolute_error: 8235.9561 - val_loss: 10338.9492 - val_mean_absolute_error: 10338.9492\n",
            "Epoch 25/200\n",
            "611/611 [==============================] - 2s 3ms/step - loss: 8230.7861 - mean_absolute_error: 8230.7861 - val_loss: 10197.3545 - val_mean_absolute_error: 10197.3545\n",
            "Epoch 26/200\n",
            "611/611 [==============================] - 2s 4ms/step - loss: 8079.7568 - mean_absolute_error: 8079.7568 - val_loss: 9845.6855 - val_mean_absolute_error: 9845.6855\n",
            "Epoch 27/200\n",
            "611/611 [==============================] - 2s 3ms/step - loss: 7944.1968 - mean_absolute_error: 7944.1968 - val_loss: 9711.0947 - val_mean_absolute_error: 9711.0947\n",
            "Epoch 28/200\n",
            "611/611 [==============================] - 2s 4ms/step - loss: 7786.7134 - mean_absolute_error: 7786.7134 - val_loss: 10001.8838 - val_mean_absolute_error: 10001.8838\n",
            "Epoch 29/200\n",
            "611/611 [==============================] - 2s 4ms/step - loss: 7692.9277 - mean_absolute_error: 7692.9277 - val_loss: 9665.1367 - val_mean_absolute_error: 9665.1367\n",
            "Epoch 30/200\n",
            "611/611 [==============================] - 2s 3ms/step - loss: 7633.6226 - mean_absolute_error: 7633.6226 - val_loss: 9265.9561 - val_mean_absolute_error: 9265.9561\n",
            "Epoch 31/200\n",
            "611/611 [==============================] - 2s 4ms/step - loss: 7548.6055 - mean_absolute_error: 7548.6055 - val_loss: 9421.7500 - val_mean_absolute_error: 9421.7500\n",
            "Epoch 32/200\n",
            "611/611 [==============================] - 2s 4ms/step - loss: 7400.6890 - mean_absolute_error: 7400.6890 - val_loss: 9279.3643 - val_mean_absolute_error: 9279.3643\n",
            "Epoch 33/200\n",
            "611/611 [==============================] - 2s 3ms/step - loss: 7413.6675 - mean_absolute_error: 7413.6675 - val_loss: 9210.0342 - val_mean_absolute_error: 9210.0342\n",
            "Epoch 34/200\n",
            "611/611 [==============================] - 2s 4ms/step - loss: 7375.8101 - mean_absolute_error: 7375.8101 - val_loss: 9336.7217 - val_mean_absolute_error: 9336.7217\n",
            "Epoch 35/200\n",
            "611/611 [==============================] - 2s 3ms/step - loss: 7412.0820 - mean_absolute_error: 7412.0820 - val_loss: 9103.7666 - val_mean_absolute_error: 9103.7666\n",
            "Epoch 36/200\n",
            "611/611 [==============================] - 2s 3ms/step - loss: 7233.5938 - mean_absolute_error: 7233.5938 - val_loss: 9086.8242 - val_mean_absolute_error: 9086.8242\n",
            "Epoch 37/200\n",
            "611/611 [==============================] - 2s 4ms/step - loss: 7011.2080 - mean_absolute_error: 7011.2080 - val_loss: 9169.3838 - val_mean_absolute_error: 9169.3838\n",
            "Epoch 38/200\n",
            "611/611 [==============================] - 2s 3ms/step - loss: 6981.6230 - mean_absolute_error: 6981.6230 - val_loss: 8870.4316 - val_mean_absolute_error: 8870.4316\n",
            "Epoch 39/200\n",
            "611/611 [==============================] - 2s 4ms/step - loss: 7040.8232 - mean_absolute_error: 7040.8232 - val_loss: 9015.4668 - val_mean_absolute_error: 9015.4668\n",
            "Epoch 40/200\n",
            "611/611 [==============================] - 2s 4ms/step - loss: 6927.5273 - mean_absolute_error: 6927.5273 - val_loss: 8908.3379 - val_mean_absolute_error: 8908.3379\n",
            "Epoch 41/200\n",
            "611/611 [==============================] - 2s 3ms/step - loss: 6814.9028 - mean_absolute_error: 6814.9028 - val_loss: 9022.6387 - val_mean_absolute_error: 9022.6387\n",
            "Epoch 42/200\n",
            "611/611 [==============================] - 3s 4ms/step - loss: 6874.2275 - mean_absolute_error: 6874.2275 - val_loss: 8641.0713 - val_mean_absolute_error: 8641.0713\n",
            "Epoch 43/200\n",
            "611/611 [==============================] - 2s 4ms/step - loss: 6746.0166 - mean_absolute_error: 6746.0166 - val_loss: 8840.4170 - val_mean_absolute_error: 8840.4170\n",
            "Epoch 44/200\n",
            "611/611 [==============================] - 2s 3ms/step - loss: 6658.8232 - mean_absolute_error: 6658.8232 - val_loss: 8684.7256 - val_mean_absolute_error: 8684.7256\n",
            "Epoch 45/200\n",
            "611/611 [==============================] - 2s 3ms/step - loss: 6625.7246 - mean_absolute_error: 6625.7246 - val_loss: 8623.8691 - val_mean_absolute_error: 8623.8691\n",
            "Epoch 46/200\n",
            "611/611 [==============================] - 2s 4ms/step - loss: 6639.2334 - mean_absolute_error: 6639.2334 - val_loss: 8347.5986 - val_mean_absolute_error: 8347.5986\n",
            "Epoch 47/200\n",
            "611/611 [==============================] - 2s 4ms/step - loss: 6592.5010 - mean_absolute_error: 6592.5010 - val_loss: 8616.8906 - val_mean_absolute_error: 8616.8906\n",
            "Epoch 48/200\n",
            "611/611 [==============================] - 2s 4ms/step - loss: 6471.0625 - mean_absolute_error: 6471.0625 - val_loss: 8432.3770 - val_mean_absolute_error: 8432.3770\n",
            "Epoch 49/200\n",
            "611/611 [==============================] - 2s 4ms/step - loss: 6397.2373 - mean_absolute_error: 6397.2373 - val_loss: 8280.2656 - val_mean_absolute_error: 8280.2656\n",
            "Epoch 50/200\n",
            "611/611 [==============================] - 2s 4ms/step - loss: 6359.2300 - mean_absolute_error: 6359.2300 - val_loss: 8833.1680 - val_mean_absolute_error: 8833.1680\n",
            "Epoch 51/200\n",
            "611/611 [==============================] - 2s 4ms/step - loss: 6356.8750 - mean_absolute_error: 6356.8750 - val_loss: 8344.5762 - val_mean_absolute_error: 8344.5762\n",
            "Epoch 52/200\n",
            "611/611 [==============================] - 2s 4ms/step - loss: 6330.0879 - mean_absolute_error: 6330.0879 - val_loss: 8185.5049 - val_mean_absolute_error: 8185.5049\n",
            "Epoch 53/200\n",
            "611/611 [==============================] - 2s 4ms/step - loss: 6239.0488 - mean_absolute_error: 6239.0488 - val_loss: 7901.2490 - val_mean_absolute_error: 7901.2490\n",
            "Epoch 54/200\n",
            "611/611 [==============================] - 3s 5ms/step - loss: 6302.2690 - mean_absolute_error: 6302.2690 - val_loss: 8522.7051 - val_mean_absolute_error: 8522.7051\n",
            "Epoch 55/200\n",
            "611/611 [==============================] - 2s 3ms/step - loss: 6234.8740 - mean_absolute_error: 6234.8740 - val_loss: 7917.2803 - val_mean_absolute_error: 7917.2803\n",
            "Epoch 56/200\n",
            "611/611 [==============================] - 2s 4ms/step - loss: 6265.1587 - mean_absolute_error: 6265.1587 - val_loss: 7867.0703 - val_mean_absolute_error: 7867.0703\n",
            "Epoch 57/200\n",
            "611/611 [==============================] - 2s 3ms/step - loss: 6177.4712 - mean_absolute_error: 6177.4712 - val_loss: 7892.6890 - val_mean_absolute_error: 7892.6890\n",
            "Epoch 58/200\n",
            "611/611 [==============================] - 2s 3ms/step - loss: 6092.5503 - mean_absolute_error: 6092.5503 - val_loss: 7916.0684 - val_mean_absolute_error: 7916.0684\n",
            "Epoch 59/200\n",
            "611/611 [==============================] - 2s 3ms/step - loss: 6074.4448 - mean_absolute_error: 6074.4448 - val_loss: 8041.1348 - val_mean_absolute_error: 8041.1348\n",
            "Epoch 60/200\n",
            "611/611 [==============================] - 2s 4ms/step - loss: 6014.7881 - mean_absolute_error: 6014.7881 - val_loss: 7945.5278 - val_mean_absolute_error: 7945.5278\n",
            "Epoch 61/200\n",
            "611/611 [==============================] - 2s 3ms/step - loss: 6017.0518 - mean_absolute_error: 6017.0518 - val_loss: 7744.9565 - val_mean_absolute_error: 7744.9565\n",
            "Epoch 62/200\n",
            "611/611 [==============================] - 3s 5ms/step - loss: 5977.5532 - mean_absolute_error: 5977.5532 - val_loss: 7874.3037 - val_mean_absolute_error: 7874.3037\n",
            "Epoch 63/200\n",
            "611/611 [==============================] - 2s 3ms/step - loss: 5886.4473 - mean_absolute_error: 5886.4473 - val_loss: 7959.3682 - val_mean_absolute_error: 7959.3682\n",
            "Epoch 64/200\n",
            "611/611 [==============================] - 2s 4ms/step - loss: 5955.1504 - mean_absolute_error: 5955.1504 - val_loss: 8035.3262 - val_mean_absolute_error: 8035.3262\n",
            "Epoch 65/200\n",
            "611/611 [==============================] - 2s 3ms/step - loss: 5869.2856 - mean_absolute_error: 5869.2856 - val_loss: 7968.8452 - val_mean_absolute_error: 7968.8452\n",
            "Epoch 66/200\n",
            "611/611 [==============================] - 2s 3ms/step - loss: 5932.9595 - mean_absolute_error: 5932.9595 - val_loss: 7738.5449 - val_mean_absolute_error: 7738.5449\n",
            "Epoch 67/200\n",
            "611/611 [==============================] - 2s 3ms/step - loss: 5855.0791 - mean_absolute_error: 5855.0791 - val_loss: 8000.3857 - val_mean_absolute_error: 8000.3857\n",
            "Epoch 68/200\n",
            "611/611 [==============================] - 2s 3ms/step - loss: 5740.2451 - mean_absolute_error: 5740.2451 - val_loss: 7848.4072 - val_mean_absolute_error: 7848.4072\n",
            "Epoch 69/200\n",
            "611/611 [==============================] - 2s 3ms/step - loss: 5734.1592 - mean_absolute_error: 5734.1592 - val_loss: 7760.5654 - val_mean_absolute_error: 7760.5654\n",
            "Epoch 70/200\n",
            "611/611 [==============================] - 2s 3ms/step - loss: 5632.5063 - mean_absolute_error: 5632.5063 - val_loss: 7847.8457 - val_mean_absolute_error: 7847.8457\n",
            "Epoch 71/200\n",
            "611/611 [==============================] - 2s 3ms/step - loss: 5765.1768 - mean_absolute_error: 5765.1768 - val_loss: 7775.8223 - val_mean_absolute_error: 7775.8223\n",
            "Epoch 72/200\n",
            "611/611 [==============================] - 2s 4ms/step - loss: 5635.7642 - mean_absolute_error: 5635.7642 - val_loss: 7932.2241 - val_mean_absolute_error: 7932.2241\n",
            "Epoch 73/200\n",
            "611/611 [==============================] - 2s 4ms/step - loss: 5681.6338 - mean_absolute_error: 5681.6338 - val_loss: 8116.3691 - val_mean_absolute_error: 8116.3691\n",
            "Epoch 74/200\n",
            "611/611 [==============================] - 2s 4ms/step - loss: 5576.1011 - mean_absolute_error: 5576.1011 - val_loss: 7656.7778 - val_mean_absolute_error: 7656.7778\n",
            "Epoch 75/200\n",
            "611/611 [==============================] - 2s 4ms/step - loss: 5499.3555 - mean_absolute_error: 5499.3555 - val_loss: 7762.8345 - val_mean_absolute_error: 7762.8345\n",
            "Epoch 76/200\n",
            "611/611 [==============================] - 2s 4ms/step - loss: 5656.2500 - mean_absolute_error: 5656.2500 - val_loss: 7924.6074 - val_mean_absolute_error: 7924.6074\n",
            "Epoch 77/200\n",
            "611/611 [==============================] - 2s 3ms/step - loss: 5507.1641 - mean_absolute_error: 5507.1641 - val_loss: 7592.5439 - val_mean_absolute_error: 7592.5439\n",
            "Epoch 78/200\n",
            "611/611 [==============================] - 2s 4ms/step - loss: 5515.8745 - mean_absolute_error: 5515.8745 - val_loss: 7605.0933 - val_mean_absolute_error: 7605.0933\n",
            "Epoch 79/200\n",
            "611/611 [==============================] - 2s 4ms/step - loss: 5520.9761 - mean_absolute_error: 5520.9761 - val_loss: 7941.5073 - val_mean_absolute_error: 7941.5073\n",
            "Epoch 80/200\n",
            "611/611 [==============================] - 2s 4ms/step - loss: 5529.2466 - mean_absolute_error: 5529.2466 - val_loss: 7721.7319 - val_mean_absolute_error: 7721.7319\n",
            "Epoch 81/200\n",
            "611/611 [==============================] - 2s 3ms/step - loss: 5529.2939 - mean_absolute_error: 5529.2939 - val_loss: 7711.8599 - val_mean_absolute_error: 7711.8599\n",
            "Epoch 82/200\n",
            "611/611 [==============================] - 2s 4ms/step - loss: 5447.1143 - mean_absolute_error: 5447.1143 - val_loss: 7767.0762 - val_mean_absolute_error: 7767.0762\n",
            "Epoch 83/200\n",
            "611/611 [==============================] - 2s 4ms/step - loss: 5427.4473 - mean_absolute_error: 5427.4473 - val_loss: 7620.5972 - val_mean_absolute_error: 7620.5972\n",
            "Epoch 84/200\n",
            "611/611 [==============================] - 2s 4ms/step - loss: 5391.9175 - mean_absolute_error: 5391.9175 - val_loss: 7731.6367 - val_mean_absolute_error: 7731.6367\n",
            "Epoch 85/200\n",
            "611/611 [==============================] - 3s 5ms/step - loss: 5438.8413 - mean_absolute_error: 5438.8413 - val_loss: 7757.4590 - val_mean_absolute_error: 7757.4590\n",
            "Epoch 86/200\n",
            "611/611 [==============================] - 3s 4ms/step - loss: 5401.2544 - mean_absolute_error: 5401.2544 - val_loss: 8061.4800 - val_mean_absolute_error: 8061.4800\n",
            "Epoch 87/200\n",
            "611/611 [==============================] - 2s 3ms/step - loss: 5367.2007 - mean_absolute_error: 5367.2007 - val_loss: 7725.4990 - val_mean_absolute_error: 7725.4990\n",
            "Epoch 88/200\n",
            "611/611 [==============================] - 2s 3ms/step - loss: 5323.6841 - mean_absolute_error: 5323.6841 - val_loss: 7666.6987 - val_mean_absolute_error: 7666.6987\n",
            "Epoch 89/200\n",
            "611/611 [==============================] - 2s 3ms/step - loss: 5315.8989 - mean_absolute_error: 5315.8989 - val_loss: 7817.9761 - val_mean_absolute_error: 7817.9761\n",
            "Epoch 90/200\n",
            "611/611 [==============================] - 2s 3ms/step - loss: 5275.8389 - mean_absolute_error: 5275.8389 - val_loss: 7821.7002 - val_mean_absolute_error: 7821.7002\n",
            "Epoch 91/200\n",
            "611/611 [==============================] - 2s 4ms/step - loss: 5328.8506 - mean_absolute_error: 5328.8506 - val_loss: 7992.6592 - val_mean_absolute_error: 7992.6592\n",
            "Epoch 92/200\n",
            "611/611 [==============================] - 2s 4ms/step - loss: 5256.2188 - mean_absolute_error: 5256.2188 - val_loss: 7684.0518 - val_mean_absolute_error: 7684.0518\n",
            "Epoch 93/200\n",
            "611/611 [==============================] - 2s 3ms/step - loss: 5265.7812 - mean_absolute_error: 5265.7812 - val_loss: 7957.9355 - val_mean_absolute_error: 7957.9355\n",
            "Epoch 94/200\n",
            "611/611 [==============================] - 2s 3ms/step - loss: 5233.3496 - mean_absolute_error: 5233.3496 - val_loss: 8251.8721 - val_mean_absolute_error: 8251.8721\n",
            "Epoch 95/200\n",
            "611/611 [==============================] - 2s 3ms/step - loss: 5301.9434 - mean_absolute_error: 5301.9434 - val_loss: 8361.5820 - val_mean_absolute_error: 8361.5820\n",
            "Epoch 96/200\n",
            "611/611 [==============================] - 2s 4ms/step - loss: 5243.1016 - mean_absolute_error: 5243.1016 - val_loss: 7935.0293 - val_mean_absolute_error: 7935.0293\n",
            "Epoch 97/200\n",
            "611/611 [==============================] - 2s 3ms/step - loss: 5183.9165 - mean_absolute_error: 5183.9165 - val_loss: 7966.2007 - val_mean_absolute_error: 7966.2007\n",
            "Duration: 0:03:51.823395\n"
          ]
        }
      ]
    },
    {
      "cell_type": "code",
      "source": [
        "# Summarize history for loss\n",
        "plt.figure(figsize=(15,5))\n",
        "plt.plot(history.history['loss'])\n",
        "plt.plot(history.history['val_loss'])\n",
        "plt.title('Train loss')\n",
        "plt.ylabel('loss')\n",
        "plt.xlabel('epoch')\n",
        "plt.legend(['train', 'val'], loc='upper right')\n",
        "plt.grid()\n",
        "plt.show()"
      ],
      "metadata": {
        "colab": {
          "base_uri": "https://localhost:8080/",
          "height": 350
        },
        "id": "wMbcCn9SoDlH",
        "outputId": "b52a3d52-aefa-46e8-ad72-6d94203ed562"
      },
      "execution_count": 32,
      "outputs": [
        {
          "output_type": "display_data",
          "data": {
            "text/plain": [
              "<Figure size 1080x360 with 1 Axes>"
            ],
            "image/png": "[encoded data removed]"
          },
          "metadata": {
            "needs_background": "light"
          }
        }
      ]
    },
    {
      "cell_type": "code",
      "source": [
        "y_pred_test = model.predict( X_test_scaled ) "
      ],
      "metadata": {
        "id": "pNzYwF72oJSV"
      },
      "execution_count": 33,
      "outputs": []
    },
    {
      "cell_type": "code",
      "source": [
        "print(f\"MAE MLP of y = \", mean_absolute_error(y_test,y_pred_test))"
      ],
      "metadata": {
        "colab": {
          "base_uri": "https://localhost:8080/"
        },
        "id": "BA1oKcRboMsi",
        "outputId": "5260fbb3-4cf9-4014-96dc-036faa090217"
      },
      "execution_count": 34,
      "outputs": [
        {
          "output_type": "stream",
          "name": "stdout",
          "text": [
            "MAE MLP of y =  7332.434\n"
          ]
        }
      ]
    },
    {
      "cell_type": "markdown",
      "source": [
        "--------------------------"
      ],
      "metadata": {
        "id": "04EKcg0LQ6Kz"
      }
    },
    {
      "cell_type": "code",
      "source": [
        "np.random.seed(1234)\n",
        "tf.random.set_seed(5678)\n",
        "\n",
        "model = tf.keras.models.Sequential()\n",
        "\n",
        "# Input layer\n",
        "model.add(tf.keras.layers.Dense(16, input_shape=(61,), activation='relu'))\n",
        "model.add(tf.keras.layers.Dense(8, activation='relu'))\n",
        "model.add(tf.keras.layers.Dense(1, activation='linear'))\n",
        "\n",
        "# Configure the model and start training\n",
        "model.compile(loss='mean_absolute_error', optimizer='adam', metrics=['mean_squared_error'])\n",
        "history = model.fit(X_train_scaled, y_train, epochs=250, batch_size=1, verbose=1, validation_split=0.2)"
      ],
      "metadata": {
        "id": "BNu0Xb5MQ61X"
      },
      "execution_count": null,
      "outputs": []
    },
    {
      "cell_type": "code",
      "source": [
        "# Test using the model on x_test[i]\n",
        "i = 1\n",
        "y_pred = model.predict( X_test_scaled[i].reshape(1,-1) ) "
      ],
      "metadata": {
        "id": "ihUi3nszSF-E"
      },
      "execution_count": null,
      "outputs": []
    },
    {
      "cell_type": "code",
      "source": [
        "print(X_test_scaled[1])"
      ],
      "metadata": {
        "id": "nBPBQSxsU2fQ"
      },
      "execution_count": null,
      "outputs": []
    },
    {
      "cell_type": "code",
      "source": [
        "print(y_pred)"
      ],
      "metadata": {
        "id": "MXqWJkvgU5PE"
      },
      "execution_count": null,
      "outputs": []
    },
    {
      "cell_type": "code",
      "source": [
        "y_test[1]"
      ],
      "metadata": {
        "id": "YgpMkQ9ZU6tS"
      },
      "execution_count": null,
      "outputs": []
    }
  ]
}